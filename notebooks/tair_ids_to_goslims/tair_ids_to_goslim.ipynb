{
 "cells": [
  {
   "cell_type": "code",
   "id": "initial_id",
   "metadata": {
    "collapsed": true
   },
   "source": [
    "import pandas as pd\n",
    "import matplotlib.pyplot as plt\n",
    "from functools import partial\n",
    "from tqdm import tqdm\n",
    "tqdm.pandas()\n",
    "# instantiating GOManager object and downloading Gene Ontology data\n",
    "from notebooks.tair_ids_to_goslims.go_manager import GOManager\n",
    "go_mngr = GOManager()"
   ],
   "outputs": [],
   "execution_count": null
  },
  {
   "metadata": {},
   "cell_type": "markdown",
   "source": "#### Path to your file containing your tair ids (one tair id by line)",
   "id": "364213dc744032d3"
  },
  {
   "metadata": {},
   "cell_type": "code",
   "source": "file = '/path/to/your/file'",
   "id": "795b5812ccbea213",
   "outputs": [],
   "execution_count": null
  },
  {
   "metadata": {},
   "cell_type": "markdown",
   "source": "#### Parsing Tair IDs from file and mapping them to Uniprot IDs",
   "id": "9f4c22aba8addb19"
  },
  {
   "metadata": {
    "collapsed": false
   },
   "cell_type": "code",
   "source": [
    "df = pd.read_csv(file, names=['tair_id'])\n",
    "tair_ids = [tair_id.split('.')[0] for tair_id in df['tair_id'].tolist()]"
   ],
   "id": "5f69f7961e1dff90",
   "outputs": [],
   "execution_count": null
  },
  {
   "cell_type": "code",
   "source": "tair_ids_to_uniprot_ids = go_mngr.get_uniprot_ids(tair_ids)",
   "metadata": {
    "collapsed": false
   },
   "id": "2aeafe754a3bac",
   "outputs": [],
   "execution_count": null
  },
  {
   "metadata": {},
   "cell_type": "markdown",
   "source": "#### Getting GO terms and GOSLIM terms from tair IDs",
   "id": "22e97d9972ca652f"
  },
  {
   "cell_type": "code",
   "source": [
    "df = pd.DataFrame.from_records(tair_ids_to_uniprot_ids).rename(columns={'from': 'tair_id', 'to': 'uniprot_id'})\n",
    "df['go_terms'] = df['uniprot_id'].progress_apply(go_mngr.get_go_terms)"
   ],
   "metadata": {
    "collapsed": false
   },
   "id": "ac61087a3926ca54",
   "outputs": [],
   "execution_count": null
  },
  {
   "cell_type": "code",
   "source": [
    "df1 = df.groupby('tair_id')['go_terms'].apply(go_mngr.merge_go_term_list).reset_index()\n",
    "df1[['goslim_terms', 'goslim_names']] = df1.apply(lambda row: go_mngr.get_goslim_mappings(row),axis=1, result_type='expand')"
   ],
   "metadata": {
    "collapsed": false
   },
   "id": "cf4cdf384e10e5fd",
   "outputs": [],
   "execution_count": null
  },
  {
   "cell_type": "code",
   "source": [
    "for namespace in GOManager.GOTERM_CATEGORIES:\n",
    "    df1[[f'{namespace}_goslim_terms', f'{namespace}_goslim_names']] = df1.apply(\n",
    "        lambda row: go_mngr.get_specific_goslim_mappings(row, namespace=namespace), axis=1, result_type='expand')"
   ],
   "metadata": {
    "collapsed": false
   },
   "id": "1be07e1efe54e5e7",
   "outputs": [],
   "execution_count": null
  },
  {
   "metadata": {},
   "cell_type": "markdown",
   "source": "#### Displaying plots",
   "id": "387de704fbdf841e"
  },
  {
   "cell_type": "code",
   "source": [
    "fig, axes = plt.subplots(nrows=3, ncols=1, figsize=(8, 18))\n",
    "for i, namespace in enumerate(GOManager.GOTERM_CATEGORIES):\n",
    "    goslims_lists = df1[f'{namespace}_goslim_terms'].tolist()\n",
    "    go_mngr.plot_counts(axes, namespace, goslims_lists, subplot_index=i)\n",
    "plt.tight_layout()\n",
    "plt.show()"
   ],
   "metadata": {
    "collapsed": false
   },
   "id": "420587ecaefa7216",
   "outputs": [],
   "execution_count": null
  },
  {
   "cell_type": "code",
   "source": [
    "goslim_name = 'defense response to other organism'\n",
    "func = partial(go_mngr.keep_go_term_corresponding_to_goslim, goslim_name=goslim_name)\n",
    "filtered_goterms = df1['go_terms'].apply(func)\n",
    "\n",
    "plt.figure(figsize=(8, 6))\n",
    "specific_go_terms = filtered_goterms.tolist()\n",
    "go_mngr.plot_one_count(specific_go_terms)\n",
    "plt.xticks(rotation=45)\n",
    "plt.show()"
   ],
   "metadata": {
    "collapsed": false
   },
   "id": "8f45d3ac2ad8dee5",
   "outputs": [],
   "execution_count": null
  }
 ],
 "metadata": {
  "kernelspec": {
   "display_name": "Python 3",
   "language": "python",
   "name": "python3"
  },
  "language_info": {
   "codemirror_mode": {
    "name": "ipython",
    "version": 2
   },
   "file_extension": ".py",
   "mimetype": "text/x-python",
   "name": "python",
   "nbconvert_exporter": "python",
   "pygments_lexer": "ipython2",
   "version": "2.7.6"
  }
 },
 "nbformat": 4,
 "nbformat_minor": 5
}
